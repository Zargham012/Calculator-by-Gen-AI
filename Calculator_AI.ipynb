{
  "nbformat": 4,
  "nbformat_minor": 0,
  "metadata": {
    "colab": {
      "provenance": [],
      "authorship_tag": "ABX9TyOEECEnOCcD4vKXc8SUMyWP",
      "include_colab_link": true
    },
    "kernelspec": {
      "name": "python3",
      "display_name": "Python 3"
    },
    "language_info": {
      "name": "python"
    }
  },
  "cells": [
    {
      "cell_type": "markdown",
      "metadata": {
        "id": "view-in-github",
        "colab_type": "text"
      },
      "source": [
        "<a href=\"https://colab.research.google.com/github/Zargham012/Calculator-by-Gen-AI/blob/main/Calculator_AI.ipynb\" target=\"_parent\"><img src=\"https://colab.research.google.com/assets/colab-badge.svg\" alt=\"Open In Colab\"/></a>"
      ]
    },
    {
      "cell_type": "code",
      "execution_count": 2,
      "metadata": {
        "id": "FcCyKM5kZ4ij",
        "colab": {
          "base_uri": "https://localhost:8080/"
        },
        "outputId": "d0b49cfb-66ea-4ea3-a2f5-5fd987a05927"
      },
      "outputs": [
        {
          "output_type": "stream",
          "name": "stdout",
          "text": [
            "Welcome to the Simple Calculator!\n",
            "Select operation:\n",
            "1. Addition (+)\n",
            "2. Subtraction (-)\n",
            "3. Multiplication (*)\n",
            "4. Division (/)\n",
            "Enter operation (1/2/3/4): 3\n",
            "Enter first number: 2\n",
            "Enter second number: 24\n",
            "Result: 48.0\n"
          ]
        }
      ],
      "source": [
        "# Simple Calculator in Google Colab\n",
        "\n",
        "# Function to perform calculations\n",
        "def simple_calculator():\n",
        "    print(\"Welcome to the Simple Calculator!\")\n",
        "    print(\"Select operation:\")\n",
        "    print(\"1. Addition (+)\")\n",
        "    print(\"2. Subtraction (-)\")\n",
        "    print(\"3. Multiplication (*)\")\n",
        "    print(\"4. Division (/)\")\n",
        "\n",
        "    # Take input from the user\n",
        "    operation = input(\"Enter operation (1/2/3/4): \")\n",
        "\n",
        "    if operation in ['1', '2', '3', '4']:\n",
        "        num1 = float(input(\"Enter first number: \"))\n",
        "        num2 = float(input(\"Enter second number: \"))\n",
        "\n",
        "        if operation == '1':\n",
        "            print(f\"Result: {num1 + num2}\")\n",
        "        elif operation == '2':\n",
        "            print(f\"Result: {num1 - num2}\")\n",
        "        elif operation == '3':\n",
        "            print(f\"Result: {num1 * num2}\")\n",
        "        elif operation == '4':\n",
        "            if num2 != 0:\n",
        "                print(f\"Result: {num1 / num2}\")\n",
        "            else:\n",
        "                print(\"Error: Division by zero is not allowed.\")\n",
        "    else:\n",
        "        print(\"Invalid operation selected. Please choose a valid option.\")\n",
        "\n",
        "# Run the calculator\n",
        "simple_calculator()\n"
      ]
    }
  ]
}